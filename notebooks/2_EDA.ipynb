{
 "cells": [
  {
   "cell_type": "code",
   "execution_count": 1,
   "id": "5f44f0ec-81f8-4d57-8920-68534e4883f0",
   "metadata": {},
   "outputs": [],
   "source": [
    "# import necessary libraries\n",
    "import warnings\n",
    "warnings.filterwarnings('ignore')\n",
    "\n",
    "import pandas as pd\n",
    "import numpy as np\n",
    "import matplotlib.pyplot as plt\n",
    "import seaborn as sns\n",
    "%matplotlib inline\n",
    "import nltk\n",
    "import tokenize\n",
    "from nltk.tokenize import sent_tokenize, word_tokenize, RegexpTokenizer\n",
    "from nltk.stem import WordNetLemmatizer\n",
    "from nltk.corpus import stopwords\n",
    "from sklearn.feature_extraction.text import CountVectorizer, TfidfTransformer, TfidfVectorizer\n",
    "from sklearn.model_selection import train_test_split"
   ]
  },
  {
   "cell_type": "code",
   "execution_count": 2,
   "id": "a6530da5-de57-4008-ab53-f20e2c17ca00",
   "metadata": {},
   "outputs": [],
   "source": [
    "# Importing disaster messages data\n",
    "df = pd.read_csv('../datasets/df_clean.csv')\n",
    "df = df[['message', 'fire']]"
   ]
  },
  {
   "cell_type": "code",
   "execution_count": 3,
   "id": "7ce829af-2a00-4fb0-9727-2aaaa7701053",
   "metadata": {},
   "outputs": [
    {
     "data": {
      "text/html": [
       "<div>\n",
       "<style scoped>\n",
       "    .dataframe tbody tr th:only-of-type {\n",
       "        vertical-align: middle;\n",
       "    }\n",
       "\n",
       "    .dataframe tbody tr th {\n",
       "        vertical-align: top;\n",
       "    }\n",
       "\n",
       "    .dataframe thead th {\n",
       "        text-align: right;\n",
       "    }\n",
       "</style>\n",
       "<table border=\"1\" class=\"dataframe\">\n",
       "  <thead>\n",
       "    <tr style=\"text-align: right;\">\n",
       "      <th></th>\n",
       "      <th>message</th>\n",
       "      <th>fire</th>\n",
       "    </tr>\n",
       "  </thead>\n",
       "  <tbody>\n",
       "    <tr>\n",
       "      <th>89</th>\n",
       "      <td>we have a factory that is on fire on road to t...</td>\n",
       "      <td>1</td>\n",
       "    </tr>\n",
       "    <tr>\n",
       "      <th>103</th>\n",
       "      <td>theres a fire at the perpetuel secours church ...</td>\n",
       "      <td>1</td>\n",
       "    </tr>\n",
       "    <tr>\n",
       "      <th>142</th>\n",
       "      <td>good morning to everyone that is listening in ...</td>\n",
       "      <td>1</td>\n",
       "    </tr>\n",
       "  </tbody>\n",
       "</table>\n",
       "</div>"
      ],
      "text/plain": [
       "                                               message  fire\n",
       "89   we have a factory that is on fire on road to t...     1\n",
       "103  theres a fire at the perpetuel secours church ...     1\n",
       "142  good morning to everyone that is listening in ...     1"
      ]
     },
     "execution_count": 3,
     "metadata": {},
     "output_type": "execute_result"
    }
   ],
   "source": [
    "df[df['fire'] == 1].head(3)"
   ]
  },
  {
   "cell_type": "code",
   "execution_count": 4,
   "id": "5aad450a-2f87-481e-b249-a44494bee16f",
   "metadata": {},
   "outputs": [
    {
     "data": {
      "text/plain": [
       "message    theres a fire at the perpetuel secours church please send firefighters\n",
       "fire                                                                            1\n",
       "Name: 103, dtype: object"
      ]
     },
     "execution_count": 4,
     "metadata": {},
     "output_type": "execute_result"
    }
   ],
   "source": [
    "pd.set_option(\n",
    "    'display.max_colwidth', 900\n",
    ")\n",
    "df.iloc[103,:]"
   ]
  },
  {
   "cell_type": "markdown",
   "id": "f1957edd-1ca5-4ef9-8484-b7003ebbfca6",
   "metadata": {},
   "source": [
    "### Instantiate and create new columns for tokenized words"
   ]
  },
  {
   "cell_type": "code",
   "execution_count": 5,
   "id": "6e8ffdd9-2190-4348-ab71-5a9711de3cd8",
   "metadata": {},
   "outputs": [],
   "source": [
    "# Instantiate tokenizer.\n",
    "tokenizer = RegexpTokenizer('\\s+', gaps=True)\n",
    "\n",
    "# Instantiate lemmatizer. \n",
    "lemmatizer = WordNetLemmatizer()"
   ]
  },
  {
   "cell_type": "code",
   "execution_count": 6,
   "id": "051ee909-29fb-45a3-8fe7-e2b8661be670",
   "metadata": {},
   "outputs": [],
   "source": [
    "df['text'] = df.message.apply(lambda t: ' '.join(\n",
    "    [word for word in t.split(' ') if word not in stopwords.words('english')]))\n",
    "df['text'] = df['text'].apply(lambda t: ' '.join([lemmatizer.lemmatize(word) \n",
    "        for word in t.split(' ')]))"
   ]
  },
  {
   "cell_type": "code",
   "execution_count": 7,
   "id": "2c1e4453-cbeb-416e-a83e-6ed6c8c47be3",
   "metadata": {},
   "outputs": [
    {
     "data": {
      "text/plain": [
       "0                                                                                                                                                                              weather update  cold front cuba could pas haiti\n",
       "1                                                                                                                                                                                                                    hurricane\n",
       "2                                                                                                                                                                               say west side haiti rest country today tonight\n",
       "3                                                                                                                                                                                                  information national palace\n",
       "4                                                                                                                                                                                                     storm sacred heart jesus\n",
       "                                                                                                                 ...                                                                                                          \n",
       "23604                                                                               unhcr 653 supplying basic nonfood item sanitary kit mosquito net kettle pot tent returnees whose transfer original village also organising\n",
       "23605                                                                                one first organization respond midnovember outbreak international medical corp transported daily boat village cutoff stagnant floodwaters\n",
       "23606                                                                                         president said government always belief democratic politics assured every important move stakeholder government country informed\n",
       "23607    following severe flood occurred previous year ircs branch eastern northeastern state support federation sister society focused building capacity community based disaster preparedness disaster mitigation initiative\n",
       "23608                                                 hpakant area rich coveted jade stone seen recent influx illegal smallscale mining operation since breakdown 17year ceasefire burmese government kachin independence army\n",
       "Name: text, Length: 23609, dtype: object"
      ]
     },
     "execution_count": 7,
     "metadata": {},
     "output_type": "execute_result"
    }
   ],
   "source": [
    "df.text"
   ]
  },
  {
   "cell_type": "markdown",
   "id": "c3f17093-b677-4226-821a-319d481bf8fe",
   "metadata": {},
   "source": [
    "### Exploring most common-words"
   ]
  },
  {
   "cell_type": "markdown",
   "id": "eff4f250-9ec1-4920-8f53-230063272df4",
   "metadata": {},
   "source": [
    "Exploring word count and length of words, before words were tokenized, lemmatized, removed stop words"
   ]
  },
  {
   "cell_type": "code",
   "execution_count": 8,
   "id": "68ca22b3-1e50-4ae5-89f3-b47972b48c3f",
   "metadata": {},
   "outputs": [],
   "source": [
    "df['length'] = df['text'].apply(len)\n",
    "df['word_count']= df['text'].apply(lambda x: len(x.split()))"
   ]
  },
  {
   "cell_type": "code",
   "execution_count": 9,
   "id": "f68386b8-24ee-415e-a5c5-68c081836735",
   "metadata": {},
   "outputs": [
    {
     "data": {
      "text/html": [
       "<div>\n",
       "<style scoped>\n",
       "    .dataframe tbody tr th:only-of-type {\n",
       "        vertical-align: middle;\n",
       "    }\n",
       "\n",
       "    .dataframe tbody tr th {\n",
       "        vertical-align: top;\n",
       "    }\n",
       "\n",
       "    .dataframe thead th {\n",
       "        text-align: right;\n",
       "    }\n",
       "</style>\n",
       "<table border=\"1\" class=\"dataframe\">\n",
       "  <thead>\n",
       "    <tr style=\"text-align: right;\">\n",
       "      <th></th>\n",
       "      <th>length</th>\n",
       "      <th>word_count</th>\n",
       "    </tr>\n",
       "  </thead>\n",
       "  <tbody>\n",
       "    <tr>\n",
       "      <th>count</th>\n",
       "      <td>23609.000000</td>\n",
       "      <td>23609.000000</td>\n",
       "    </tr>\n",
       "    <tr>\n",
       "      <th>mean</th>\n",
       "      <td>101.758524</td>\n",
       "      <td>14.101021</td>\n",
       "    </tr>\n",
       "    <tr>\n",
       "      <th>std</th>\n",
       "      <td>145.834670</td>\n",
       "      <td>19.327575</td>\n",
       "    </tr>\n",
       "    <tr>\n",
       "      <th>min</th>\n",
       "      <td>3.000000</td>\n",
       "      <td>0.000000</td>\n",
       "    </tr>\n",
       "    <tr>\n",
       "      <th>25%</th>\n",
       "      <td>49.000000</td>\n",
       "      <td>7.000000</td>\n",
       "    </tr>\n",
       "    <tr>\n",
       "      <th>50%</th>\n",
       "      <td>85.000000</td>\n",
       "      <td>12.000000</td>\n",
       "    </tr>\n",
       "    <tr>\n",
       "      <th>75%</th>\n",
       "      <td>127.000000</td>\n",
       "      <td>18.000000</td>\n",
       "    </tr>\n",
       "    <tr>\n",
       "      <th>max</th>\n",
       "      <td>7938.000000</td>\n",
       "      <td>1072.000000</td>\n",
       "    </tr>\n",
       "  </tbody>\n",
       "</table>\n",
       "</div>"
      ],
      "text/plain": [
       "             length    word_count\n",
       "count  23609.000000  23609.000000\n",
       "mean     101.758524     14.101021\n",
       "std      145.834670     19.327575\n",
       "min        3.000000      0.000000\n",
       "25%       49.000000      7.000000\n",
       "50%       85.000000     12.000000\n",
       "75%      127.000000     18.000000\n",
       "max     7938.000000   1072.000000"
      ]
     },
     "execution_count": 9,
     "metadata": {},
     "output_type": "execute_result"
    }
   ],
   "source": [
    "df[['length', 'word_count']].describe()"
   ]
  },
  {
   "cell_type": "code",
   "execution_count": 10,
   "id": "5bddbeef-a570-4583-a96e-523cf22b35c1",
   "metadata": {},
   "outputs": [
    {
     "data": {
      "text/plain": [
       "Int64Index([ 9995,  9998, 10127, 10502, 10525, 10962, 11192, 11351, 11769,\n",
       "            11789, 11802, 11811, 11814, 11817, 12053, 12167, 12261, 12380,\n",
       "            12565, 12576, 12687, 12692, 12731, 12810, 12849, 12887, 12889,\n",
       "            12895, 12932, 12966, 12972, 13688, 13743, 13763, 13842, 13882,\n",
       "            14182, 14309, 14357, 14412, 15219, 15535, 15546, 16397, 16548,\n",
       "            16556, 16630, 16695, 16820, 16878, 16895, 17048, 17065, 17137,\n",
       "            17229, 17621, 17651, 17786, 17981, 18053, 18101, 18123, 18193,\n",
       "            18254, 18330, 18459, 18528, 19234, 19470, 19864, 19954, 19959,\n",
       "            20037, 20312, 22325, 22486, 22583, 22796, 22934, 22992, 23046,\n",
       "            23124, 23151, 23284, 23451],\n",
       "           dtype='int64')"
      ]
     },
     "execution_count": 10,
     "metadata": {},
     "output_type": "execute_result"
    }
   ],
   "source": [
    "df[df.length > 500].index"
   ]
  },
  {
   "cell_type": "code",
   "execution_count": 11,
   "id": "96fb221f-163a-453b-abec-dc1ccc097fbc",
   "metadata": {},
   "outputs": [
    {
     "data": {
      "text/plain": [
       "85"
      ]
     },
     "execution_count": 11,
     "metadata": {},
     "output_type": "execute_result"
    }
   ],
   "source": [
    "# dropping 85 rows with \n",
    "len(df[df.length > 500].index)"
   ]
  },
  {
   "cell_type": "code",
   "execution_count": 12,
   "id": "bcfee9c7-9af9-4e30-8501-46a6274792d8",
   "metadata": {},
   "outputs": [],
   "source": [
    "df_short = df.drop(df[df.length > 500].index)"
   ]
  },
  {
   "cell_type": "code",
   "execution_count": 18,
   "id": "5937bdac-ba96-4db7-a3e9-8e901deb8363",
   "metadata": {},
   "outputs": [
    {
     "data": {
      "image/png": "[encoded data removed]",
      "text/plain": [
       "<Figure size 432x288 with 1 Axes>"
      ]
     },
     "metadata": {
      "needs_background": "light"
     },
     "output_type": "display_data"
    }
   ],
   "source": [
    "sns.distplot(df_short.length, norm_hist = True)\n",
    "sns.distplot(df_short.word_count, norm_hist = True);\n",
    "plt.savefig('../reports/word_count_length.png')"
   ]
  },
  {
   "cell_type": "code",
   "execution_count": 19,
   "id": "13e0c2d7-21b0-41cb-bf0b-aecc038b37aa",
   "metadata": {},
   "outputs": [
    {
     "data": {
      "image/png": "[encoded data removed]",
      "text/plain": [
       "<Figure size 432x288 with 1 Axes>"
      ]
     },
     "metadata": {
      "needs_background": "light"
     },
     "output_type": "display_data"
    }
   ],
   "source": [
    "sns.histplot(df_short['length'])\n",
    "sns.histplot(df_short['word_count'], color= 'orange')\n",
    "plt.suptitle('Character & Word Count Distributions', fontsize=20);\n",
    "plt.savefig('../reports/word_count_length_distributions.png')"
   ]
  },
  {
   "cell_type": "code",
   "execution_count": 22,
   "id": "f526fad9-deb5-4f61-a17c-164e0f128fee",
   "metadata": {},
   "outputs": [],
   "source": [
    "df = pd.read_csv('../datasets/df_clean.csv')\n",
    "df = df[['message', 'floods']]"
   ]
  },
  {
   "cell_type": "code",
   "execution_count": 24,
   "id": "a12b25ce-d624-4bec-b3a6-20f259396174",
   "metadata": {},
   "outputs": [],
   "source": [
    "X = df['message']\n",
    "y = df['floods']"
   ]
  },
  {
   "cell_type": "code",
   "execution_count": 27,
   "id": "31862a64-0810-4ddc-8417-d755eac4cc40",
   "metadata": {},
   "outputs": [],
   "source": [
    "cv = CountVectorizer(stop_words= 'english')\n",
    "df_vect = cv.fit_transform(df['message'])\n",
    "df_vect_df = pd.DataFrame(df_vect.todense(), columns = cv.get_feature_names())"
   ]
  },
  {
   "cell_type": "code",
   "execution_count": 29,
   "id": "722a4226-9b3d-449c-9d97-9380784e69b6",
   "metadata": {},
   "outputs": [
    {
     "data": {
      "image/png": "[encoded data removed]",
      "text/plain": [
       "<Figure size 432x288 with 1 Axes>"
      ]
     },
     "metadata": {
      "needs_background": "light"
     },
     "output_type": "display_data"
    }
   ],
   "source": [
    "df_vect_df.sum().sort_values(ascending=False).head(30).plot(kind='barh', fontsize=9)\n",
    "plt.suptitle('Top 30 Words', fontsize=15);\n",
    "plt.savefig('../reports/top_30_words')"
   ]
  },
  {
   "cell_type": "markdown",
   "id": "6949367e-35f5-4444-a93c-bf43adbc1e96",
   "metadata": {},
   "source": [
    "### Looking at Top 20 Coupled Words"
   ]
  },
  {
   "cell_type": "code",
   "execution_count": 32,
   "id": "9d35c4ef-59d3-4afc-88e0-c1c21cf1be24",
   "metadata": {},
   "outputs": [],
   "source": [
    "cv2 = CountVectorizer(stop_words= 'english', ngram_range = (2, 2))\n",
    "df_bigram_vect = cv2.fit_transform(df['message'])\n",
    "df_bigram = pd.DataFrame(df_bigram_vect.todense(), columns = cv2.get_feature_names())"
   ]
  },
  {
   "cell_type": "code",
   "execution_count": 33,
   "id": "214604ae-efba-408f-981d-b6e425269793",
   "metadata": {},
   "outputs": [
    {
     "data": {
      "image/png": "[encoded data removed]",
      "text/plain": [
       "<Figure size 432x288 with 1 Axes>"
      ]
     },
     "metadata": {
      "needs_background": "light"
     },
     "output_type": "display_data"
    }
   ],
   "source": [
    "df_bigram.sum().sort_values(ascending=False).head(30).plot(kind='barh', fontsize=9)\n",
    "plt.suptitle('Top 30 bigrams', fontsize=15);\n",
    "plt.savefig('../reports/top_30_bigrams')"
   ]
  }
 ],
 "metadata": {
  "kernelspec": {
   "display_name": "Python 3.7.6 64-bit ('base')",
   "language": "python",
   "name": "python37664bitbasea52a37308dff44c7bb6788a0068595ac"
  },
  "language_info": {
   "codemirror_mode": {
    "name": "ipython",
    "version": 3
   },
   "file_extension": ".py",
   "mimetype": "text/x-python",
   "name": "python",
   "nbconvert_exporter": "python",
   "pygments_lexer": "ipython3",
   "version": "3.8.8"
  }
 },
 "nbformat": 4,
 "nbformat_minor": 5
}
