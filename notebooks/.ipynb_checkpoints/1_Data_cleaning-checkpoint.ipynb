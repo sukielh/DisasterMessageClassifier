{
 "cells": [
  {
   "cell_type": "code",
   "execution_count": 1,
   "id": "71a71069-9b52-438d-9d1b-2c54beaaa94c",
   "metadata": {},
   "outputs": [],
   "source": [
    "# import necessary libraries\n",
    "import warnings\n",
    "warnings.filterwarnings('ignore')\n",
    "\n",
    "import pandas as pd\n",
    "import numpy as np\n",
    "import matplotlib.pyplot as plt\n",
    "import seaborn as sns\n",
    "%matplotlib inline\n",
    "import re\n",
    "import nltk\n",
    "import string \n",
    "\n",
    "from nltk.tokenize import sent_tokenize, word_tokenize, RegexpTokenizer\n",
    "from nltk.stem import WordNetLemmatizer\n",
    "from nltk.stem.porter import PorterStemmer\n",
    "from textblob import TextBlob"
   ]
  },
  {
   "cell_type": "code",
   "execution_count": 3,
   "id": "e8dd4a40-34c4-48b7-b5b0-36d02ec0a8fe",
   "metadata": {
    "tags": []
   },
   "outputs": [],
   "source": [
    "# Datasets are downloable at:\n",
    "# https://www.kaggle.com/landlord/multilingual-disaster-response-messages\n",
    "# Importing anxiety data\n",
    "train = pd.read_csv('../datasets/disaster_response_messages_training.csv')\n",
    "test = pd.read_csv('../datasets/disaster_response_messages_test.csv')\n",
    "val = pd.read_csv('../datasets/disaster_response_messages_validation.csv')"
   ]
  },
  {
   "cell_type": "code",
   "execution_count": 4,
   "id": "cd4c25f3-6cfa-4a2e-94ed-39c77981fd1c",
   "metadata": {},
   "outputs": [
    {
     "data": {
      "text/plain": [
       "Index(['id', 'split', 'message', 'original', 'genre', 'related', 'PII',\n",
       "       'request', 'offer', 'aid_related', 'medical_help', 'medical_products',\n",
       "       'search_and_rescue', 'security', 'military', 'child_alone', 'water',\n",
       "       'food', 'shelter', 'clothing', 'money', 'missing_people', 'refugees',\n",
       "       'death', 'other_aid', 'infrastructure_related', 'transport',\n",
       "       'buildings', 'electricity', 'tools', 'hospitals', 'shops',\n",
       "       'aid_centers', 'other_infrastructure', 'weather_related', 'floods',\n",
       "       'storm', 'fire', 'earthquake', 'cold', 'other_weather',\n",
       "       'direct_report'],\n",
       "      dtype='object')"
      ]
     },
     "execution_count": 4,
     "metadata": {},
     "output_type": "execute_result"
    }
   ],
   "source": [
    "val.columns"
   ]
  },
  {
   "cell_type": "code",
   "execution_count": 5,
   "id": "7ae4170f-3837-4667-bbb6-546fe2d786b9",
   "metadata": {},
   "outputs": [
    {
     "data": {
      "text/plain": [
       "(23675, 42)"
      ]
     },
     "execution_count": 5,
     "metadata": {},
     "output_type": "execute_result"
    }
   ],
   "source": [
    "df = train.append(test)\n",
    "df.shape"
   ]
  },
  {
   "cell_type": "code",
   "execution_count": 6,
   "id": "9f0ffb79-6410-471a-a603-f896e7d7ae51",
   "metadata": {},
   "outputs": [],
   "source": [
    "df.drop(columns = ['id', 'split', 'original'], inplace = True)\n",
    "df = df.drop_duplicates(subset = 'message')"
   ]
  },
  {
   "cell_type": "code",
   "execution_count": 7,
   "id": "9d00ce3c-ceef-4b7c-aadd-ae8dfe50411e",
   "metadata": {},
   "outputs": [],
   "source": [
    "df['genre'] = df['genre'].replace(['direct', 'news', 'social'], [1, 0, 2])\n",
    "df['content_length'] = df['message'].apply(len)\n",
    "df['content_word_count']= df['message'].apply(lambda x: len(x.split()))"
   ]
  },
  {
   "cell_type": "code",
   "execution_count": 8,
   "id": "b85ce8d2-c594-4ec5-b3ba-a51e45a34606",
   "metadata": {},
   "outputs": [],
   "source": [
    "def custom_preprocessor(text):\n",
    "    text = text.lower() #lowercases word\n",
    "    text = re.sub(r'[^\\w\\s]', '', text) #removes punctuation\n",
    "    text = re.sub(r'[0–9]', '', text) #removes any numbers\n",
    "    text = re.sub('(<.*?>)', '', text) #removed html\n",
    "    #copied from https://swatimeena989.medium.com/beginners-guide-for-preprocessing-text-data-f3156bec85ca\n",
    "    \n",
    "    lemmatizer = WordNetLemmatizer()\n",
    "    text = lemmatizer.lemmatize(text)\n",
    "    \n",
    "    return text"
   ]
  },
  {
   "cell_type": "code",
   "execution_count": 9,
   "id": "dd6da284-b26f-4808-aff8-b73984aed819",
   "metadata": {},
   "outputs": [],
   "source": [
    "df['message'] = df['message'].apply(custom_preprocessor)"
   ]
  },
  {
   "cell_type": "code",
   "execution_count": 11,
   "id": "19e62381-52ee-4a95-8887-553b6ebe8c6a",
   "metadata": {},
   "outputs": [
    {
     "name": "stdout",
     "output_type": "stream",
     "text": [
      "<class 'pandas.core.frame.DataFrame'>\n",
      "Int64Index: 23609 entries, 0 to 2628\n",
      "Data columns (total 41 columns):\n",
      " #   Column                  Non-Null Count  Dtype \n",
      "---  ------                  --------------  ----- \n",
      " 0   message                 23609 non-null  object\n",
      " 1   genre                   23609 non-null  int64 \n",
      " 2   related                 23609 non-null  int64 \n",
      " 3   PII                     23609 non-null  int64 \n",
      " 4   request                 23609 non-null  int64 \n",
      " 5   offer                   23609 non-null  int64 \n",
      " 6   aid_related             23609 non-null  int64 \n",
      " 7   medical_help            23609 non-null  int64 \n",
      " 8   medical_products        23609 non-null  int64 \n",
      " 9   search_and_rescue       23609 non-null  int64 \n",
      " 10  security                23609 non-null  int64 \n",
      " 11  military                23609 non-null  int64 \n",
      " 12  child_alone             23609 non-null  int64 \n",
      " 13  water                   23609 non-null  int64 \n",
      " 14  food                    23609 non-null  int64 \n",
      " 15  shelter                 23609 non-null  int64 \n",
      " 16  clothing                23609 non-null  int64 \n",
      " 17  money                   23609 non-null  int64 \n",
      " 18  missing_people          23609 non-null  int64 \n",
      " 19  refugees                23609 non-null  int64 \n",
      " 20  death                   23609 non-null  int64 \n",
      " 21  other_aid               23609 non-null  int64 \n",
      " 22  infrastructure_related  23609 non-null  int64 \n",
      " 23  transport               23609 non-null  int64 \n",
      " 24  buildings               23609 non-null  int64 \n",
      " 25  electricity             23609 non-null  int64 \n",
      " 26  tools                   23609 non-null  int64 \n",
      " 27  hospitals               23609 non-null  int64 \n",
      " 28  shops                   23609 non-null  int64 \n",
      " 29  aid_centers             23609 non-null  int64 \n",
      " 30  other_infrastructure    23609 non-null  int64 \n",
      " 31  weather_related         23609 non-null  int64 \n",
      " 32  floods                  23609 non-null  int64 \n",
      " 33  storm                   23609 non-null  int64 \n",
      " 34  fire                    23609 non-null  int64 \n",
      " 35  earthquake              23609 non-null  int64 \n",
      " 36  cold                    23609 non-null  int64 \n",
      " 37  other_weather           23609 non-null  int64 \n",
      " 38  direct_report           23609 non-null  int64 \n",
      " 39  content_length          23609 non-null  int64 \n",
      " 40  content_word_count      23609 non-null  int64 \n",
      "dtypes: int64(40), object(1)\n",
      "memory usage: 7.6+ MB\n"
     ]
    }
   ],
   "source": [
    "df.info()"
   ]
  },
  {
   "cell_type": "code",
   "execution_count": 12,
   "id": "494af371-1e0c-41ae-a45f-c43cefd79e2e",
   "metadata": {},
   "outputs": [
    {
     "data": {
      "text/plain": [
       "(23609, 41)"
      ]
     },
     "execution_count": 12,
     "metadata": {},
     "output_type": "execute_result"
    }
   ],
   "source": [
    "df.shape"
   ]
  },
  {
   "cell_type": "code",
   "execution_count": null,
   "id": "2b0a28d8-ffe7-4422-afb9-4e3806f09db6",
   "metadata": {},
   "outputs": [],
   "source": [
    "#path=r'/Users/suelemlee/Desktop/Capstone/'\n",
    "path=r'/Users/suelemlee/Desktop/dsir-82/capstone/datasets/'\n",
    "df.to_csv(path+'df_clean.csv', index = True)"
   ]
  }
 ],
 "metadata": {
  "kernelspec": {
   "display_name": "Python 3.7.6 64-bit ('base')",
   "language": "python",
   "name": "python37664bitbasea52a37308dff44c7bb6788a0068595ac"
  },
  "language_info": {
   "codemirror_mode": {
    "name": "ipython",
    "version": 3
   },
   "file_extension": ".py",
   "mimetype": "text/x-python",
   "name": "python",
   "nbconvert_exporter": "python",
   "pygments_lexer": "ipython3",
   "version": "3.8.8"
  }
 },
 "nbformat": 4,
 "nbformat_minor": 5
}
